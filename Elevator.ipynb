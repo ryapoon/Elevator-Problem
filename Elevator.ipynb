{
 "cells": [
  {
   "cell_type": "code",
   "execution_count": 75,
   "id": "195f32ee",
   "metadata": {},
   "outputs": [],
   "source": [
    "import numpy as np"
   ]
  },
  {
   "cell_type": "code",
   "execution_count": 120,
   "id": "de03e466",
   "metadata": {},
   "outputs": [
    {
     "data": {
      "text/plain": [
       "'0b111110'"
      ]
     },
     "execution_count": 120,
     "metadata": {},
     "output_type": "execute_result"
    }
   ],
   "source": [
    "def binN(n):\n",
    "    return bin(n)[2:]\n",
    "bin(62)"
   ]
  },
  {
   "cell_type": "markdown",
   "id": "982a695f",
   "metadata": {},
   "source": [
    "# Per-Elevator Calculation Function"
   ]
  },
  {
   "cell_type": "markdown",
   "id": "92a69fa1",
   "metadata": {},
   "source": [
    "This function takes in an input of an integer between 0 and 127 inclusive and converts it to binary, where the first 6 digits represent whether or not the elevator stops at that floor, going from 6th floor to 1st floor. The last digit represents whether or not any floor is a stop for more than 6 passengers, meaning that some of the integers in our range may not actually be possible, since it is assumed the elevator will only make stops at floors with at least one passenger, and elevators with only one stop *must* have a floor with 6 or more passengers. "
   ]
  },
  {
   "cell_type": "code",
   "execution_count": 77,
   "id": "3caa307c",
   "metadata": {},
   "outputs": [],
   "source": [
    "import const\n",
    "def calcTime(n):\n",
    "    e = binN(n)\n",
    "    top = len(e)-1\n",
    "    for i in range(7-len(e)):\n",
    "        e = \"0\" + e;\n",
    "    count = const.FILL_TIME\n",
    "    count += 2 * const.BETWEEN_FLOORS * top\n",
    "    if n % 2 == 1:\n",
    "        count += const.REOPEN_TIME\n",
    "    for c in e:\n",
    "        if c == \"1\":\n",
    "            count += const.STOP_TIME\n",
    "    if e[6] == \"1\":\n",
    "        count -= const.STOP_TIME\n",
    "    return count\n",
    "    "
   ]
  },
  {
   "cell_type": "code",
   "execution_count": 78,
   "id": "9e549f6b",
   "metadata": {},
   "outputs": [
    {
     "name": "stdout",
     "output_type": "stream",
     "text": [
      "[15, 23, 35, 43, 45, 53, 55, 63, 55, 63, 65, 73, 65, 73, 75, 83, 65, 73, 75, 83, 75, 83, 85, 93, 75, 83, 85, 93, 85, 93, 95, 103, 75, 83, 85, 93, 85, 93, 95, 103, 85, 93, 95, 103, 95, 103, 105, 113, 85, 93, 95, 103, 95, 103, 105, 113, 95, 103, 105, 113, 105, 113, 115, 123, 85, 93, 95, 103, 95, 103, 105, 113, 95, 103, 105, 113, 105, 113, 115, 123, 95, 103, 105, 113, 105, 113, 115, 123, 105, 113, 115, 123, 115, 123, 125, 133, 95, 103, 105, 113, 105, 113, 115, 123, 105, 113, 115, 123, 115, 123, 125, 133, 105, 113, 115, 123, 115, 123, 125, 133, 115, 123, 125, 133, 125, 133, 135, 143]\n"
     ]
    }
   ],
   "source": [
    "arr = []\n",
    "for i in range(0, 128):\n",
    "    arr.append(calcTime(i))\n",
    "print(arr)"
   ]
  },
  {
   "cell_type": "markdown",
   "id": "809810ad",
   "metadata": {},
   "source": [
    "# Example\n",
    "In the example below, we have an elevator that stops at floors 1, 4, and 5, as well as one of those stops having 7 or more passengers getting off there. We express that elevator as the binary string \"0110011\" and our resulting time is 103 seconds for the entire trip. "
   ]
  },
  {
   "cell_type": "code",
   "execution_count": 79,
   "id": "e0eec025",
   "metadata": {},
   "outputs": [],
   "source": [
    "def calcFromBinary(s):\n",
    "    return calcTime(int(s, 2))\n"
   ]
  },
  {
   "cell_type": "code",
   "execution_count": 122,
   "id": "59a17270",
   "metadata": {},
   "outputs": [
    {
     "data": {
      "text/plain": [
       "103"
      ]
     },
     "execution_count": 122,
     "metadata": {},
     "output_type": "execute_result"
    }
   ],
   "source": [
    "calcFromBinary(\"0110011\")"
   ]
  },
  {
   "cell_type": "markdown",
   "id": "594110bf",
   "metadata": {},
   "source": [
    "# Probability Table\n",
    "These functions create a probability table of how likely an elevator will fill up to as a category of elevator as described above by simulating several full days of elevator usage. Crucially, during each day, the number of people joining an elevator is maintained throughout, so hopefully we collect samples that reflect the average elevator including elevators that go "
   ]
  },
  {
   "cell_type": "code",
   "execution_count": 81,
   "id": "fc04f59c",
   "metadata": {},
   "outputs": [],
   "source": [
    "import random"
   ]
  },
  {
   "cell_type": "code",
   "execution_count": 84,
   "id": "74739379",
   "metadata": {},
   "outputs": [],
   "source": [
    "all_people = [1]*100 + [2]*120 + [3]*60 + [4]*120 + [5]*80 + [6]*20"
   ]
  },
  {
   "cell_type": "code",
   "execution_count": 85,
   "id": "da97d13a",
   "metadata": {},
   "outputs": [],
   "source": [
    "def fill_elevator(people):\n",
    "    elevator = []\n",
    "    for i in range(10):\n",
    "        a = random.randrange(len(people))\n",
    "        elevator.append(people[a])\n",
    "        del(people[a])\n",
    "    return elevator"
   ]
  },
  {
   "cell_type": "code",
   "execution_count": 94,
   "id": "113b4347",
   "metadata": {},
   "outputs": [],
   "source": [
    "def countElevators(all_people):\n",
    "    people = all_people.copy()\n",
    "    elevator_types = [0]*128\n",
    "    for i in range(50):\n",
    "        floors = [0]*6\n",
    "        elevator = fill_elevator(people)\n",
    "        for floor in elevator:\n",
    "            floors[floor-1] += 1\n",
    "        string = \"\"\n",
    "        for floor in floors:\n",
    "            if floor > 0:\n",
    "                string = \"1\" + string\n",
    "            else:\n",
    "                string = \"0\" + string\n",
    "        reopen = False\n",
    "        for floor in floors:\n",
    "            if floor > 6:\n",
    "                reopen = True\n",
    "                break\n",
    "        if reopen:\n",
    "            string = string + \"1\"\n",
    "        else:\n",
    "            string = string + \"0\"\n",
    "        elevator_types[int(string,2)] += 1\n",
    "    return elevator_types"
   ]
  },
  {
   "cell_type": "code",
   "execution_count": 110,
   "id": "357aaa6a",
   "metadata": {},
   "outputs": [],
   "source": [
    "simulate_more = np.zeros(128)\n",
    "np.set_printoptions(suppress=True)\n",
    "for i in range(10000):\n",
    "    simulate_more += np.array(countElevators(all_people))"
   ]
  },
  {
   "cell_type": "markdown",
   "id": "775db40b",
   "metadata": {},
   "source": [
    "This is the table of how many simulated elevators were a part of a given category"
   ]
  },
  {
   "cell_type": "code",
   "execution_count": 111,
   "id": "ef943f8a",
   "metadata": {},
   "outputs": [
    {
     "data": {
      "text/plain": [
       "array([     0.,      0.,      0.,      0.,      0.,      0.,     88.,\n",
       "           42.,      0.,      0.,      1.,      6.,      6.,      5.,\n",
       "         1142.,     91.,      0.,      1.,     78.,     40.,    191.,\n",
       "           97.,   9183.,    449.,      8.,      8.,   1205.,     94.,\n",
       "         2362.,    199.,  37147.,    211.,      0.,      0.,      6.,\n",
       "            9.,     24.,     26.,   2513.,    130.,      0.,      0.,\n",
       "          266.,     19.,    551.,     51.,  13024.,     60.,     27.,\n",
       "           13.,   2507.,    132.,   4784.,    280.,  65235.,    286.,\n",
       "          584.,     51.,  12989.,     88.,  21742.,    154., 153190.,\n",
       "            0.,      0.,      0.,      0.,      0.,      0.,      0.,\n",
       "          153.,     20.,      0.,      0.,     11.,      3.,     19.,\n",
       "            5.,   1198.,     26.,      0.,      0.,    121.,     31.,\n",
       "          306.,     55.,   7056.,     77.,     24.,     10.,   1172.,\n",
       "           18.,   2217.,     38.,  20628.,      0.,      0.,      0.,\n",
       "           27.,      1.,     64.,     16.,   2310.,     22.,      5.,\n",
       "            2.,    301.,      6.,    616.,      9.,   8290.,      0.,\n",
       "           65.,     14.,   2356.,     22.,   4027.,     59.,  34761.,\n",
       "            0.,    601.,     11.,   8199.,      0.,  13014.,      0.,\n",
       "        60619.,      0.])"
      ]
     },
     "execution_count": 111,
     "metadata": {},
     "output_type": "execute_result"
    }
   ],
   "source": [
    "simulate_more"
   ]
  },
  {
   "cell_type": "code",
   "execution_count": 112,
   "id": "c5175bb1",
   "metadata": {},
   "outputs": [],
   "source": [
    "simulate_more /= 500000"
   ]
  },
  {
   "cell_type": "markdown",
   "id": "58dea68b",
   "metadata": {},
   "source": [
    "And this is our probability table for the elevator categories"
   ]
  },
  {
   "cell_type": "code",
   "execution_count": 113,
   "id": "2c4a38ca",
   "metadata": {},
   "outputs": [
    {
     "data": {
      "text/plain": [
       "array([0.      , 0.      , 0.      , 0.      , 0.      , 0.      ,\n",
       "       0.000176, 0.000084, 0.      , 0.      , 0.000002, 0.000012,\n",
       "       0.000012, 0.00001 , 0.002284, 0.000182, 0.      , 0.000002,\n",
       "       0.000156, 0.00008 , 0.000382, 0.000194, 0.018366, 0.000898,\n",
       "       0.000016, 0.000016, 0.00241 , 0.000188, 0.004724, 0.000398,\n",
       "       0.074294, 0.000422, 0.      , 0.      , 0.000012, 0.000018,\n",
       "       0.000048, 0.000052, 0.005026, 0.00026 , 0.      , 0.      ,\n",
       "       0.000532, 0.000038, 0.001102, 0.000102, 0.026048, 0.00012 ,\n",
       "       0.000054, 0.000026, 0.005014, 0.000264, 0.009568, 0.00056 ,\n",
       "       0.13047 , 0.000572, 0.001168, 0.000102, 0.025978, 0.000176,\n",
       "       0.043484, 0.000308, 0.30638 , 0.      , 0.      , 0.      ,\n",
       "       0.      , 0.      , 0.      , 0.      , 0.000306, 0.00004 ,\n",
       "       0.      , 0.      , 0.000022, 0.000006, 0.000038, 0.00001 ,\n",
       "       0.002396, 0.000052, 0.      , 0.      , 0.000242, 0.000062,\n",
       "       0.000612, 0.00011 , 0.014112, 0.000154, 0.000048, 0.00002 ,\n",
       "       0.002344, 0.000036, 0.004434, 0.000076, 0.041256, 0.      ,\n",
       "       0.      , 0.      , 0.000054, 0.000002, 0.000128, 0.000032,\n",
       "       0.00462 , 0.000044, 0.00001 , 0.000004, 0.000602, 0.000012,\n",
       "       0.001232, 0.000018, 0.01658 , 0.      , 0.00013 , 0.000028,\n",
       "       0.004712, 0.000044, 0.008054, 0.000118, 0.069522, 0.      ,\n",
       "       0.001202, 0.000022, 0.016398, 0.      , 0.026028, 0.      ,\n",
       "       0.121238, 0.      ])"
      ]
     },
     "execution_count": 113,
     "metadata": {},
     "output_type": "execute_result"
    }
   ],
   "source": [
    "simulate_more"
   ]
  },
  {
   "cell_type": "code",
   "execution_count": 114,
   "id": "1941216f",
   "metadata": {
    "scrolled": true
   },
   "outputs": [
    {
     "data": {
      "text/plain": [
       "0.9999999999999999"
      ]
     },
     "execution_count": 114,
     "metadata": {},
     "output_type": "execute_result"
    }
   ],
   "source": [
    "np.sum(simulate_more)"
   ]
  },
  {
   "cell_type": "markdown",
   "id": "20a0f9f6",
   "metadata": {},
   "source": [
    "# Results\n",
    "We can calculate our final average time for a single elevator trip by multiplying our time per elevator array by our probability table array and summing it, and from there we can calculate the total time for the morning elevator operation."
   ]
  },
  {
   "cell_type": "code",
   "execution_count": 124,
   "id": "31975571",
   "metadata": {},
   "outputs": [
    {
     "data": {
      "text/plain": [
       "113.94503200000001"
      ]
     },
     "execution_count": 124,
     "metadata": {},
     "output_type": "execute_result"
    }
   ],
   "source": [
    "meanElevatorTime = np.sum(np.multiply(simulate_more, arr))\n",
    "meanElevatorTime"
   ]
  },
  {
   "cell_type": "code",
   "execution_count": 129,
   "id": "1e1e0dfa",
   "metadata": {},
   "outputs": [
    {
     "data": {
      "text/plain": [
       "1424.3129000000001"
      ]
     },
     "execution_count": 129,
     "metadata": {},
     "output_type": "execute_result"
    }
   ],
   "source": [
    "totTime = 50 * meanElevatorTime / 4\n",
    "totTime"
   ]
  },
  {
   "cell_type": "code",
   "execution_count": 130,
   "id": "2a887da5",
   "metadata": {},
   "outputs": [
    {
     "data": {
      "text/plain": [
       "23.738548333333334"
      ]
     },
     "execution_count": 130,
     "metadata": {},
     "output_type": "execute_result"
    }
   ],
   "source": [
    "totMinutes = totTime / 60\n",
    "totMinutes"
   ]
  },
  {
   "cell_type": "code",
   "execution_count": null,
   "id": "5cbd9974",
   "metadata": {},
   "outputs": [],
   "source": []
  }
 ],
 "metadata": {
  "kernelspec": {
   "display_name": "Python 3 (ipykernel)",
   "language": "python",
   "name": "python3"
  },
  "language_info": {
   "codemirror_mode": {
    "name": "ipython",
    "version": 3
   },
   "file_extension": ".py",
   "mimetype": "text/x-python",
   "name": "python",
   "nbconvert_exporter": "python",
   "pygments_lexer": "ipython3",
   "version": "3.9.6"
  }
 },
 "nbformat": 4,
 "nbformat_minor": 5
}
