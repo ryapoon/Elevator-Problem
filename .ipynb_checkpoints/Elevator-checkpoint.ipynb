{
 "cells": [
  {
   "cell_type": "code",
   "execution_count": 8,
   "id": "195f32ee",
   "metadata": {},
   "outputs": [],
   "source": [
    "import numpy"
   ]
  },
  {
   "cell_type": "code",
   "execution_count": 9,
   "id": "de03e466",
   "metadata": {},
   "outputs": [],
   "source": [
    "def binN(n):\n",
    "    return bin(n)[2:]"
   ]
  },
  {
   "cell_type": "markdown",
   "id": "982a695f",
   "metadata": {},
   "source": [
    "# Per-Elevator Calculation Function"
   ]
  },
  {
   "cell_type": "markdown",
   "id": "92a69fa1",
   "metadata": {},
   "source": [
    "This function takes in an input of an integer between 0 and 127 inclusive and converts it to binary, where the first 6 digits represent whether or not the elevator stops at that floor, going from 6th floor to 1st floor. The last digit represents whether or not any floor is a stop for more than 6 passengers, meaning that some of the integers in our range may not actually be possible, since it is assumed the elevator will only make stops at floors with at least one passenger, and elevators with only one stop *must* have a floor with 6 or more passengers. "
   ]
  },
  {
   "cell_type": "code",
   "execution_count": 12,
   "id": "3caa307c",
   "metadata": {},
   "outputs": [],
   "source": [
    "import const\n",
    "def calcTime(n):\n",
    "    e = binN(n)\n",
    "    top = len(e)-1\n",
    "    for i in range(7-len(e)):\n",
    "        e = \"0\" + e;\n",
    "    count = const.FILL_TIME\n",
    "    count += 2 * const.BETWEEN_FLOORS * top\n",
    "    if n % 2 == 1:\n",
    "        count += const.REOPEN_TIME\n",
    "    for c in e:\n",
    "        if c == \"1\":\n",
    "            count += const.STOP_TIME\n",
    "    if e[6] == \"1\":\n",
    "        count -= const.STOP_TIME\n",
    "    return count\n",
    "    "
   ]
  },
  {
   "cell_type": "code",
   "execution_count": 13,
   "id": "9e549f6b",
   "metadata": {},
   "outputs": [
    {
     "name": "stdout",
     "output_type": "stream",
     "text": [
      "[ 15  23  35  43  45  53  55  63  55  63  65  73  65  73  75  83  65  73\n",
      "  75  83  75  83  85  93  75  83  85  93  85  93  95 103  75  83  85  93\n",
      "  85  93  95 103  85  93  95 103  95 103 105 113  85  93  95 103  95 103\n",
      " 105 113  95 103 105 113 105 113 115 123  85  93  95 103  95 103 105 113\n",
      "  95 103 105 113 105 113 115 123  95 103 105 113 105 113 115 123 105 113\n",
      " 115 123 115 123 125 133  95 103 105 113 105 113 115 123 105 113 115 123\n",
      " 115 123 125 133 105 113 115 123 115 123 125 133 115 123 125 133 125 133\n",
      " 135 143]\n"
     ]
    }
   ],
   "source": [
    "arr = []\n",
    "for i in range(0, 128):\n",
    "    arr.append(calcTime(i))\n",
    "arr = numpy.array(arr)\n",
    "print(arr)"
   ]
  },
  {
   "cell_type": "markdown",
   "id": "809810ad",
   "metadata": {},
   "source": [
    "# Example\n",
    "In the example below, we have an elevator that stops at floors 1, 4, and 5, as well as one of those stops having 7 or more passengers getting off there. We express that elevator as the binary string \"0110011\" and our resulting time is 103 seconds for the entire trip. "
   ]
  },
  {
   "cell_type": "code",
   "execution_count": 14,
   "id": "e0eec025",
   "metadata": {},
   "outputs": [],
   "source": [
    "def calcFromBinary(s):\n",
    "    return calcTime(int(s, 2))\n"
   ]
  },
  {
   "cell_type": "code",
   "execution_count": 17,
   "id": "59a17270",
   "metadata": {},
   "outputs": [
    {
     "data": {
      "text/plain": [
       "103"
      ]
     },
     "execution_count": 17,
     "metadata": {},
     "output_type": "execute_result"
    }
   ],
   "source": [
    "calcFromBinary(\"0110011\")"
   ]
  },
  {
   "cell_type": "markdown",
   "id": "594110bf",
   "metadata": {},
   "source": [
    "# Probability Table\n",
    "yeah"
   ]
  },
  {
   "cell_type": "code",
   "execution_count": 48,
   "id": "fc04f59c",
   "metadata": {},
   "outputs": [],
   "source": [
    "import random\n",
    "import numpy as np"
   ]
  },
  {
   "cell_type": "code",
   "execution_count": 49,
   "id": "25452099",
   "metadata": {},
   "outputs": [],
   "source": [
    "number_of_people = [0,0,0,0,0,10]"
   ]
  },
  {
   "cell_type": "code",
   "execution_count": 50,
   "id": "bc442d9c",
   "metadata": {},
   "outputs": [],
   "source": [
    "def time(number_of_people):\n",
    "    time = 15\n",
    "    for i in range(6):\n",
    "        if number_of_people[5-i] > 0:\n",
    "            time += 10*(6-i)\n",
    "            break\n",
    "    for n in number_of_people:\n",
    "        if n > 6:\n",
    "            time += 18\n",
    "        elif n > 0:\n",
    "            time += 10\n",
    "    return time\n",
    "        "
   ]
  },
  {
   "cell_type": "code",
   "execution_count": 51,
   "id": "8bbba01c",
   "metadata": {},
   "outputs": [
    {
     "data": {
      "text/plain": [
       "93"
      ]
     },
     "execution_count": 51,
     "metadata": {},
     "output_type": "execute_result"
    }
   ],
   "source": [
    "time(number_of_people)"
   ]
  },
  {
   "cell_type": "code",
   "execution_count": 65,
   "id": "74739379",
   "metadata": {},
   "outputs": [],
   "source": [
    "all_people = [1]*100 + [2]*120 + [3]*60 + [4]*120 + [5]*80 + [6]*20"
   ]
  },
  {
   "cell_type": "code",
   "execution_count": 66,
   "id": "da97d13a",
   "metadata": {},
   "outputs": [],
   "source": [
    "def fill_elevator(people):\n",
    "    elevator = []\n",
    "    for i in range(10):\n",
    "        a = random.randrange(len(people))\n",
    "        elevator.append(people[a])\n",
    "        del(people[a])\n",
    "    return elevator"
   ]
  },
  {
   "cell_type": "code",
   "execution_count": 67,
   "id": "222dd0e3",
   "metadata": {},
   "outputs": [
    {
     "data": {
      "text/plain": [
       "500"
      ]
     },
     "execution_count": 67,
     "metadata": {},
     "output_type": "execute_result"
    }
   ],
   "source": [
    "len(all_people)"
   ]
  },
  {
   "cell_type": "code",
   "execution_count": 68,
   "id": "113b4347",
   "metadata": {},
   "outputs": [],
   "source": [
    "def total_time(all_people):\n",
    "    people = all_people.copy()\n",
    "    elevator_types = [0]*128\n",
    "    for i in range(50):\n",
    "        floors = [0]*6\n",
    "        elevator = fill_elevator(people)\n",
    "        for floor in elevator:\n",
    "            floors[floor-1] += 1\n",
    "        string = \"\"\n",
    "        for floor in floors:\n",
    "            if floor > 0:\n",
    "                string = \"1\" + string\n",
    "            else:\n",
    "                string = \"0\" + string\n",
    "        reopen = False\n",
    "        for floor in floors:\n",
    "            if floor > 6:\n",
    "                reopen = True\n",
    "                break\n",
    "        if reopen:\n",
    "            string = \"1\" + string\n",
    "        else:\n",
    "            string = \"0\" + string\n",
    "        elevator_types[int(string,2)] += 1\n",
    "    return elevator_types"
   ]
  },
  {
   "cell_type": "code",
   "execution_count": 69,
   "id": "a2ea76c9",
   "metadata": {
    "scrolled": false
   },
   "outputs": [
    {
     "data": {
      "text/plain": [
       "[0,\n",
       " 0,\n",
       " 0,\n",
       " 0,\n",
       " 0,\n",
       " 0,\n",
       " 0,\n",
       " 0,\n",
       " 0,\n",
       " 0,\n",
       " 0,\n",
       " 0,\n",
       " 0,\n",
       " 0,\n",
       " 0,\n",
       " 5,\n",
       " 0,\n",
       " 0,\n",
       " 0,\n",
       " 0,\n",
       " 0,\n",
       " 0,\n",
       " 0,\n",
       " 4,\n",
       " 0,\n",
       " 1,\n",
       " 0,\n",
       " 6,\n",
       " 0,\n",
       " 1,\n",
       " 4,\n",
       " 11,\n",
       " 0,\n",
       " 0,\n",
       " 0,\n",
       " 0,\n",
       " 0,\n",
       " 0,\n",
       " 0,\n",
       " 1,\n",
       " 0,\n",
       " 0,\n",
       " 0,\n",
       " 0,\n",
       " 0,\n",
       " 0,\n",
       " 0,\n",
       " 2,\n",
       " 0,\n",
       " 0,\n",
       " 0,\n",
       " 0,\n",
       " 0,\n",
       " 0,\n",
       " 0,\n",
       " 1,\n",
       " 0,\n",
       " 1,\n",
       " 0,\n",
       " 4,\n",
       " 0,\n",
       " 1,\n",
       " 2,\n",
       " 5,\n",
       " 0,\n",
       " 0,\n",
       " 0,\n",
       " 0,\n",
       " 0,\n",
       " 0,\n",
       " 0,\n",
       " 0,\n",
       " 0,\n",
       " 0,\n",
       " 0,\n",
       " 1,\n",
       " 0,\n",
       " 0,\n",
       " 0,\n",
       " 0,\n",
       " 0,\n",
       " 0,\n",
       " 0,\n",
       " 0,\n",
       " 0,\n",
       " 0,\n",
       " 0,\n",
       " 0,\n",
       " 0,\n",
       " 0,\n",
       " 0,\n",
       " 0,\n",
       " 0,\n",
       " 0,\n",
       " 0,\n",
       " 0,\n",
       " 0,\n",
       " 0,\n",
       " 0,\n",
       " 0,\n",
       " 0,\n",
       " 0,\n",
       " 0,\n",
       " 0,\n",
       " 0,\n",
       " 0,\n",
       " 0,\n",
       " 0,\n",
       " 0,\n",
       " 0,\n",
       " 0,\n",
       " 0,\n",
       " 0,\n",
       " 0,\n",
       " 0,\n",
       " 0,\n",
       " 0,\n",
       " 0,\n",
       " 0,\n",
       " 0,\n",
       " 0,\n",
       " 0,\n",
       " 0,\n",
       " 0,\n",
       " 0,\n",
       " 0,\n",
       " 0,\n",
       " 0]"
      ]
     },
     "execution_count": 69,
     "metadata": {},
     "output_type": "execute_result"
    }
   ],
   "source": [
    "total_time(all_people)"
   ]
  },
  {
   "cell_type": "code",
   "execution_count": 78,
   "id": "357aaa6a",
   "metadata": {},
   "outputs": [],
   "source": [
    "simulate_more = np.zeros(128)\n",
    "for i in range(10000):\n",
    "    simulate_more += np.array(total_time(all_people))"
   ]
  },
  {
   "cell_type": "code",
   "execution_count": 79,
   "id": "ef943f8a",
   "metadata": {},
   "outputs": [
    {
     "data": {
      "text/plain": [
       "array([0.00000e+00, 0.00000e+00, 0.00000e+00, 7.90000e+01, 0.00000e+00,\n",
       "       1.00000e+00, 7.00000e+00, 1.15000e+03, 0.00000e+00, 8.10000e+01,\n",
       "       2.00000e+02, 9.12500e+03, 6.00000e+00, 1.20300e+03, 2.39400e+03,\n",
       "       3.70650e+04, 0.00000e+00, 1.00000e+01, 3.70000e+01, 2.42100e+03,\n",
       "       1.00000e+00, 2.69000e+02, 5.24000e+02, 1.29430e+04, 2.70000e+01,\n",
       "       2.48400e+03, 4.76500e+03, 6.54270e+04, 6.02000e+02, 1.28690e+04,\n",
       "       2.18670e+04, 1.52754e+05, 0.00000e+00, 0.00000e+00, 0.00000e+00,\n",
       "       1.59000e+02, 0.00000e+00, 8.00000e+00, 1.90000e+01, 1.20900e+03,\n",
       "       0.00000e+00, 1.58000e+02, 3.02000e+02, 7.07100e+03, 2.60000e+01,\n",
       "       1.19400e+03, 2.20400e+03, 2.10580e+04, 0.00000e+00, 2.30000e+01,\n",
       "       6.70000e+01, 2.34600e+03, 4.00000e+00, 3.34000e+02, 6.38000e+02,\n",
       "       8.27400e+03, 6.70000e+01, 2.24200e+03, 4.00700e+03, 3.49360e+04,\n",
       "       6.50000e+02, 8.30500e+03, 1.29850e+04, 6.05370e+04, 0.00000e+00,\n",
       "       0.00000e+00, 2.00000e+00, 4.00000e+01, 0.00000e+00, 4.00000e+00,\n",
       "       6.00000e+00, 8.70000e+01, 1.00000e+00, 3.60000e+01, 9.90000e+01,\n",
       "       3.87000e+02, 9.00000e+00, 8.60000e+01, 1.90000e+02, 2.03000e+02,\n",
       "       0.00000e+00, 3.00000e+00, 2.40000e+01, 1.37000e+02, 2.00000e+00,\n",
       "       1.90000e+01, 5.60000e+01, 7.70000e+01, 2.20000e+01, 1.24000e+02,\n",
       "       2.44000e+02, 2.77000e+02, 5.60000e+01, 8.90000e+01, 1.61000e+02,\n",
       "       0.00000e+00, 0.00000e+00, 0.00000e+00, 1.00000e+00, 2.30000e+01,\n",
       "       0.00000e+00, 3.00000e+00, 1.30000e+01, 2.40000e+01, 1.00000e+00,\n",
       "       1.90000e+01, 4.00000e+01, 6.10000e+01, 1.10000e+01, 1.90000e+01,\n",
       "       3.50000e+01, 0.00000e+00, 0.00000e+00, 5.00000e+00, 1.40000e+01,\n",
       "       2.60000e+01, 0.00000e+00, 4.00000e+00, 1.10000e+01, 0.00000e+00,\n",
       "       1.20000e+01, 3.10000e+01, 5.90000e+01, 0.00000e+00, 1.30000e+01,\n",
       "       0.00000e+00, 0.00000e+00, 0.00000e+00])"
      ]
     },
     "execution_count": 79,
     "metadata": {},
     "output_type": "execute_result"
    }
   ],
   "source": [
    "simulate_more"
   ]
  },
  {
   "cell_type": "code",
   "execution_count": 80,
   "id": "c5175bb1",
   "metadata": {},
   "outputs": [],
   "source": [
    "simulate_more /= 500000"
   ]
  },
  {
   "cell_type": "code",
   "execution_count": 81,
   "id": "2c4a38ca",
   "metadata": {},
   "outputs": [
    {
     "data": {
      "text/plain": [
       "array([0.00000e+00, 0.00000e+00, 0.00000e+00, 1.58000e-04, 0.00000e+00,\n",
       "       2.00000e-06, 1.40000e-05, 2.30000e-03, 0.00000e+00, 1.62000e-04,\n",
       "       4.00000e-04, 1.82500e-02, 1.20000e-05, 2.40600e-03, 4.78800e-03,\n",
       "       7.41300e-02, 0.00000e+00, 2.00000e-05, 7.40000e-05, 4.84200e-03,\n",
       "       2.00000e-06, 5.38000e-04, 1.04800e-03, 2.58860e-02, 5.40000e-05,\n",
       "       4.96800e-03, 9.53000e-03, 1.30854e-01, 1.20400e-03, 2.57380e-02,\n",
       "       4.37340e-02, 3.05508e-01, 0.00000e+00, 0.00000e+00, 0.00000e+00,\n",
       "       3.18000e-04, 0.00000e+00, 1.60000e-05, 3.80000e-05, 2.41800e-03,\n",
       "       0.00000e+00, 3.16000e-04, 6.04000e-04, 1.41420e-02, 5.20000e-05,\n",
       "       2.38800e-03, 4.40800e-03, 4.21160e-02, 0.00000e+00, 4.60000e-05,\n",
       "       1.34000e-04, 4.69200e-03, 8.00000e-06, 6.68000e-04, 1.27600e-03,\n",
       "       1.65480e-02, 1.34000e-04, 4.48400e-03, 8.01400e-03, 6.98720e-02,\n",
       "       1.30000e-03, 1.66100e-02, 2.59700e-02, 1.21074e-01, 0.00000e+00,\n",
       "       0.00000e+00, 4.00000e-06, 8.00000e-05, 0.00000e+00, 8.00000e-06,\n",
       "       1.20000e-05, 1.74000e-04, 2.00000e-06, 7.20000e-05, 1.98000e-04,\n",
       "       7.74000e-04, 1.80000e-05, 1.72000e-04, 3.80000e-04, 4.06000e-04,\n",
       "       0.00000e+00, 6.00000e-06, 4.80000e-05, 2.74000e-04, 4.00000e-06,\n",
       "       3.80000e-05, 1.12000e-04, 1.54000e-04, 4.40000e-05, 2.48000e-04,\n",
       "       4.88000e-04, 5.54000e-04, 1.12000e-04, 1.78000e-04, 3.22000e-04,\n",
       "       0.00000e+00, 0.00000e+00, 0.00000e+00, 2.00000e-06, 4.60000e-05,\n",
       "       0.00000e+00, 6.00000e-06, 2.60000e-05, 4.80000e-05, 2.00000e-06,\n",
       "       3.80000e-05, 8.00000e-05, 1.22000e-04, 2.20000e-05, 3.80000e-05,\n",
       "       7.00000e-05, 0.00000e+00, 0.00000e+00, 1.00000e-05, 2.80000e-05,\n",
       "       5.20000e-05, 0.00000e+00, 8.00000e-06, 2.20000e-05, 0.00000e+00,\n",
       "       2.40000e-05, 6.20000e-05, 1.18000e-04, 0.00000e+00, 2.60000e-05,\n",
       "       0.00000e+00, 0.00000e+00, 0.00000e+00])"
      ]
     },
     "execution_count": 81,
     "metadata": {},
     "output_type": "execute_result"
    }
   ],
   "source": [
    "simulate_more"
   ]
  },
  {
   "cell_type": "code",
   "execution_count": 82,
   "id": "1941216f",
   "metadata": {
    "scrolled": true
   },
   "outputs": [
    {
     "data": {
      "text/plain": [
       "1.0"
      ]
     },
     "execution_count": 82,
     "metadata": {},
     "output_type": "execute_result"
    }
   ],
   "source": [
    "np.sum(simulate_more)"
   ]
  },
  {
   "cell_type": "code",
   "execution_count": null,
   "id": "31975571",
   "metadata": {},
   "outputs": [],
   "source": []
  },
  {
   "cell_type": "code",
   "execution_count": null,
   "id": "1e1e0dfa",
   "metadata": {},
   "outputs": [],
   "source": []
  }
 ],
 "metadata": {
  "kernelspec": {
   "display_name": "Python 3 (ipykernel)",
   "language": "python",
   "name": "python3"
  },
  "language_info": {
   "codemirror_mode": {
    "name": "ipython",
    "version": 3
   },
   "file_extension": ".py",
   "mimetype": "text/x-python",
   "name": "python",
   "nbconvert_exporter": "python",
   "pygments_lexer": "ipython3",
   "version": "3.9.6"
  }
 },
 "nbformat": 4,
 "nbformat_minor": 5
}
