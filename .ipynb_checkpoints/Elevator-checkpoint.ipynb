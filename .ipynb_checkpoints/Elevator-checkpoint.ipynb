{
 "cells": [
  {
   "cell_type": "code",
   "execution_count": 8,
   "id": "195f32ee",
   "metadata": {},
   "outputs": [],
   "source": [
    "import numpy"
   ]
  },
  {
   "cell_type": "code",
   "execution_count": 9,
   "id": "de03e466",
   "metadata": {},
   "outputs": [],
   "source": [
    "def binN(n):\n",
    "    return bin(n)[2:]"
   ]
  },
  {
   "cell_type": "markdown",
   "id": "982a695f",
   "metadata": {},
   "source": [
    "# Per-Elevator Calculation Function"
   ]
  },
  {
   "cell_type": "markdown",
   "id": "92a69fa1",
   "metadata": {},
   "source": [
    "This function takes in an input of an integer between 0 and 127 inclusive and converts it to binary, where the first 6 digits represent whether or not the elevator stops at that floor, going from 6th floor to 1st floor. The last digit represents whether or not any floor is a stop for more than 6 passengers, meaning that some of the integers in our range may not actually be possible, since it is assumed the elevator will only make stops at floors with at least one passenger, and elevators with only one stop *must* have a floor with 6 or more passengers. "
   ]
  },
  {
   "cell_type": "code",
   "execution_count": 12,
   "id": "3caa307c",
   "metadata": {},
   "outputs": [],
   "source": [
    "import const\n",
    "def calcTime(n):\n",
    "    e = binN(n)\n",
    "    top = len(e)-1\n",
    "    for i in range(7-len(e)):\n",
    "        e = \"0\" + e;\n",
    "    count = const.FILL_TIME\n",
    "    count += 2 * const.BETWEEN_FLOORS * top\n",
    "    if n % 2 == 1:\n",
    "        count += const.REOPEN_TIME\n",
    "    for c in e:\n",
    "        if c == \"1\":\n",
    "            count += const.STOP_TIME\n",
    "    if e[6] == \"1\":\n",
    "        count -= const.STOP_TIME\n",
    "    return count\n",
    "    "
   ]
  },
  {
   "cell_type": "code",
   "execution_count": 13,
   "id": "9e549f6b",
   "metadata": {},
   "outputs": [
    {
     "name": "stdout",
     "output_type": "stream",
     "text": [
      "[ 15  23  35  43  45  53  55  63  55  63  65  73  65  73  75  83  65  73\n",
      "  75  83  75  83  85  93  75  83  85  93  85  93  95 103  75  83  85  93\n",
      "  85  93  95 103  85  93  95 103  95 103 105 113  85  93  95 103  95 103\n",
      " 105 113  95 103 105 113 105 113 115 123  85  93  95 103  95 103 105 113\n",
      "  95 103 105 113 105 113 115 123  95 103 105 113 105 113 115 123 105 113\n",
      " 115 123 115 123 125 133  95 103 105 113 105 113 115 123 105 113 115 123\n",
      " 115 123 125 133 105 113 115 123 115 123 125 133 115 123 125 133 125 133\n",
      " 135 143]\n"
     ]
    }
   ],
   "source": [
    "arr = []\n",
    "for i in range(0, 128):\n",
    "    arr.append(calcTime(i))\n",
    "arr = numpy.array(arr)\n",
    "print(arr)"
   ]
  },
  {
   "cell_type": "markdown",
   "id": "809810ad",
   "metadata": {},
   "source": [
    "# Example\n",
    "In the example below, we have an elevator that stops at floors 1, 4, and 5, as well as one of those stops having 7 or more passengers getting off there. We express that elevator as the binary string \"0110011\" and our resulting time is 103 seconds for the entire trip. "
   ]
  },
  {
   "cell_type": "code",
   "execution_count": 14,
   "id": "e0eec025",
   "metadata": {},
   "outputs": [],
   "source": [
    "def calcFromBinary(s):\n",
    "    return calcTime(int(s, 2))\n"
   ]
  },
  {
   "cell_type": "code",
   "execution_count": 17,
   "id": "59a17270",
   "metadata": {},
   "outputs": [
    {
     "data": {
      "text/plain": [
       "103"
      ]
     },
     "execution_count": 17,
     "metadata": {},
     "output_type": "execute_result"
    }
   ],
   "source": [
    "calcFromBinary(\"0110011\")"
   ]
  },
  {
   "cell_type": "code",
   "execution_count": null,
   "id": "3c31247b",
   "metadata": {},
   "outputs": [],
   "source": [
    "\n",
    "    "
   ]
  },
  {
   "cell_type": "code",
   "execution_count": null,
   "id": "31975571",
   "metadata": {},
   "outputs": [],
   "source": []
  },
  {
   "cell_type": "code",
   "execution_count": null,
   "id": "1e1e0dfa",
   "metadata": {},
   "outputs": [],
   "source": []
  }
 ],
 "metadata": {
  "kernelspec": {
   "display_name": "Python 3 (ipykernel)",
   "language": "python",
   "name": "python3"
  },
  "language_info": {
   "codemirror_mode": {
    "name": "ipython",
    "version": 3
   },
   "file_extension": ".py",
   "mimetype": "text/x-python",
   "name": "python",
   "nbconvert_exporter": "python",
   "pygments_lexer": "ipython3",
   "version": "3.9.6"
  }
 },
 "nbformat": 4,
 "nbformat_minor": 5
}
