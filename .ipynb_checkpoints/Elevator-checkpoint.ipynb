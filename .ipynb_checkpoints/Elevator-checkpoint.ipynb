{
 "cells": [
  {
   "cell_type": "code",
   "execution_count": 86,
   "id": "195f32ee",
   "metadata": {},
   "outputs": [],
   "source": [
    "import numpy as np"
   ]
  },
  {
   "cell_type": "code",
   "execution_count": 87,
   "id": "de03e466",
   "metadata": {},
   "outputs": [
    {
     "data": {
      "text/plain": [
       "'0b111110'"
      ]
     },
     "execution_count": 87,
     "metadata": {},
     "output_type": "execute_result"
    }
   ],
   "source": [
    "def binN(n):\n",
    "    return bin(n)[2:]\n",
    "bin(62)"
   ]
  },
  {
   "cell_type": "markdown",
   "id": "982a695f",
   "metadata": {},
   "source": [
    "# Per-Elevator Calculation Function"
   ]
  },
  {
   "cell_type": "markdown",
   "id": "92a69fa1",
   "metadata": {},
   "source": [
    "This function takes in an input of an integer between 0 and 127 inclusive and converts it to binary, where the first 6 digits represent whether or not the elevator stops at that floor, going from 6th floor to 1st floor. The last digit represents whether or not any floor is a stop for more than 6 passengers, meaning that some of the integers in our range may not actually be possible, since it is assumed the elevator will only make stops at floors with at least one passenger, and elevators with only one stop *must* have a floor with 6 or more passengers. It outputs an array with the corresponding time each elevator trip would take given it's category between 0 and 127. "
   ]
  },
  {
   "cell_type": "code",
   "execution_count": 88,
   "id": "3caa307c",
   "metadata": {},
   "outputs": [],
   "source": [
    "import const\n",
    "def calcTime(n):\n",
    "    e = binN(n)\n",
    "    top = len(e)-1\n",
    "    for i in range(7-len(e)):\n",
    "        e = \"0\" + e;\n",
    "    count = const.FILL_TIME\n",
    "    count += 2 * const.BETWEEN_FLOORS * top\n",
    "    if n % 2 == 1:\n",
    "        count += const.REOPEN_TIME\n",
    "    for c in e:\n",
    "        if c == \"1\":\n",
    "            count += const.STOP_TIME\n",
    "    if e[6] == \"1\":\n",
    "        count -= const.STOP_TIME\n",
    "    return count\n",
    "    "
   ]
  },
  {
   "cell_type": "code",
   "execution_count": 89,
   "id": "9e549f6b",
   "metadata": {},
   "outputs": [
    {
     "data": {
      "text/plain": [
       "array([ 15,  23,  35,  43,  45,  53,  55,  63,  55,  63,  65,  73,  65,\n",
       "        73,  75,  83,  65,  73,  75,  83,  75,  83,  85,  93,  75,  83,\n",
       "        85,  93,  85,  93,  95, 103,  75,  83,  85,  93,  85,  93,  95,\n",
       "       103,  85,  93,  95, 103,  95, 103, 105, 113,  85,  93,  95, 103,\n",
       "        95, 103, 105, 113,  95, 103, 105, 113, 105, 113, 115, 123,  85,\n",
       "        93,  95, 103,  95, 103, 105, 113,  95, 103, 105, 113, 105, 113,\n",
       "       115, 123,  95, 103, 105, 113, 105, 113, 115, 123, 105, 113, 115,\n",
       "       123, 115, 123, 125, 133,  95, 103, 105, 113, 105, 113, 115, 123,\n",
       "       105, 113, 115, 123, 115, 123, 125, 133, 105, 113, 115, 123, 115,\n",
       "       123, 125, 133, 115, 123, 125, 133, 125, 133, 135, 143])"
      ]
     },
     "execution_count": 89,
     "metadata": {},
     "output_type": "execute_result"
    }
   ],
   "source": [
    "arr = []\n",
    "for i in range(0, 128):\n",
    "    arr.append(calcTime(i))\n",
    "np.array(arr)"
   ]
  },
  {
   "cell_type": "markdown",
   "id": "809810ad",
   "metadata": {},
   "source": [
    "# Example\n",
    "In the example below, we have an elevator that stops at floors 1, 4, and 5, as well as one of those stops having 7 or more passengers getting off there. We express that elevator as the binary string \"0110011\" and our resulting time is 103 seconds for the entire trip. "
   ]
  },
  {
   "cell_type": "code",
   "execution_count": 90,
   "id": "e0eec025",
   "metadata": {},
   "outputs": [],
   "source": [
    "def calcFromBinary(s):\n",
    "    return calcTime(int(s, 2))\n"
   ]
  },
  {
   "cell_type": "code",
   "execution_count": 91,
   "id": "59a17270",
   "metadata": {},
   "outputs": [
    {
     "data": {
      "text/plain": [
       "103"
      ]
     },
     "execution_count": 91,
     "metadata": {},
     "output_type": "execute_result"
    }
   ],
   "source": [
    "calcFromBinary(\"0110011\")"
   ]
  },
  {
   "cell_type": "markdown",
   "id": "594110bf",
   "metadata": {},
   "source": [
    "# Probability Table\n",
    "These functions create a probability table of how likely an elevator will fill up to as a category of elevator as described above by simulating several full days of elevator usage. Crucially, during each day, the number of people joining an elevator is maintained throughout, so hopefully we collect samples that reflect the average elevator including elevators that go "
   ]
  },
  {
   "cell_type": "code",
   "execution_count": 92,
   "id": "fc04f59c",
   "metadata": {},
   "outputs": [],
   "source": [
    "import random"
   ]
  },
  {
   "cell_type": "code",
   "execution_count": 93,
   "id": "74739379",
   "metadata": {},
   "outputs": [],
   "source": [
    "all_people = [1]*100 + [2]*120 + [3]*60 + [4]*120 + [5]*80 + [6]*20\n"
   ]
  },
  {
   "cell_type": "code",
   "execution_count": 94,
   "id": "da97d13a",
   "metadata": {},
   "outputs": [],
   "source": [
    "def fill_elevator(people):\n",
    "    elevator = []\n",
    "    for i in range(10):\n",
    "        a = random.randrange(len(people))\n",
    "        elevator.append(people[a])\n",
    "        del(people[a])\n",
    "    return elevator"
   ]
  },
  {
   "cell_type": "code",
   "execution_count": 95,
   "id": "113b4347",
   "metadata": {},
   "outputs": [],
   "source": [
    "def countElevators(all_people):\n",
    "    people = all_people.copy()\n",
    "    elevator_types = [0]*128\n",
    "    for i in range(int(len(all_people)/10)):\n",
    "        floors = [0]*6\n",
    "        elevator = fill_elevator(people)\n",
    "        for floor in elevator:\n",
    "            floors[floor-1] += 1\n",
    "        string = \"\"\n",
    "        for floor in floors:\n",
    "            if floor > 0:\n",
    "                string = \"1\" + string\n",
    "            else:\n",
    "                string = \"0\" + string\n",
    "        reopen = False\n",
    "        for floor in floors:\n",
    "            if floor > 6:\n",
    "                reopen = True\n",
    "                break\n",
    "        if reopen:\n",
    "            string = string + \"1\"\n",
    "        else:\n",
    "            string = string + \"0\"\n",
    "        elevator_types[int(string,2)] += 1\n",
    "    return elevator_types"
   ]
  },
  {
   "cell_type": "code",
   "execution_count": 96,
   "id": "357aaa6a",
   "metadata": {},
   "outputs": [],
   "source": [
    "simulate_more = np.zeros(128)\n",
    "np.set_printoptions(suppress=True)\n",
    "for i in range(10000):\n",
    "    simulate_more += np.array(countElevators(all_people))"
   ]
  },
  {
   "cell_type": "markdown",
   "id": "775db40b",
   "metadata": {},
   "source": [
    "This is the table of how many simulated elevators were a part of a given category"
   ]
  },
  {
   "cell_type": "code",
   "execution_count": 97,
   "id": "ef943f8a",
   "metadata": {},
   "outputs": [
    {
     "data": {
      "text/plain": [
       "array([     0.,      0.,      0.,      0.,      0.,      1.,     71.,\n",
       "           41.,      0.,      0.,      3.,      1.,      7.,      8.,\n",
       "         1188.,    102.,      0.,      0.,     86.,     41.,    198.,\n",
       "           85.,   9270.,    398.,     10.,      8.,   1140.,     99.,\n",
       "         2311.,    172.,  37048.,    192.,      0.,      0.,     11.,\n",
       "            3.,     26.,     14.,   2520.,    129.,      1.,      2.,\n",
       "          250.,     13.,    586.,     44.,  12890.,     79.,     24.,\n",
       "           16.,   2464.,    149.,   4733.,    294.,  65415.,    288.,\n",
       "          527.,     61.,  13111.,     71.,  21873.,    154., 153033.,\n",
       "            0.,      0.,      0.,      0.,      0.,      0.,      0.,\n",
       "          133.,     30.,      0.,      0.,     11.,      1.,     22.,\n",
       "            9.,   1202.,     16.,      1.,      1.,    141.,     27.,\n",
       "          330.,     44.,   7164.,     70.,     19.,      8.,   1216.,\n",
       "           22.,   2141.,     32.,  20790.,      0.,      0.,      0.,\n",
       "           30.,      4.,     57.,     13.,   2310.,     22.,      2.,\n",
       "            0.,    334.,      3.,    614.,     11.,   8213.,      0.,\n",
       "           68.,     14.,   2284.,     26.,   4134.,     59.,  34567.,\n",
       "            0.,    682.,     12.,   8308.,      0.,  13287.,      0.,\n",
       "        60255.,      0.])"
      ]
     },
     "execution_count": 97,
     "metadata": {},
     "output_type": "execute_result"
    }
   ],
   "source": [
    "simulate_more"
   ]
  },
  {
   "cell_type": "code",
   "execution_count": 98,
   "id": "c5175bb1",
   "metadata": {},
   "outputs": [],
   "source": [
    "simulate_more /= 500000"
   ]
  },
  {
   "cell_type": "markdown",
   "id": "58dea68b",
   "metadata": {},
   "source": [
    "And this is our probability table for the elevator categories"
   ]
  },
  {
   "cell_type": "code",
   "execution_count": 99,
   "id": "2c4a38ca",
   "metadata": {},
   "outputs": [
    {
     "data": {
      "text/plain": [
       "array([0.      , 0.      , 0.      , 0.      , 0.      , 0.000002,\n",
       "       0.000142, 0.000082, 0.      , 0.      , 0.000006, 0.000002,\n",
       "       0.000014, 0.000016, 0.002376, 0.000204, 0.      , 0.      ,\n",
       "       0.000172, 0.000082, 0.000396, 0.00017 , 0.01854 , 0.000796,\n",
       "       0.00002 , 0.000016, 0.00228 , 0.000198, 0.004622, 0.000344,\n",
       "       0.074096, 0.000384, 0.      , 0.      , 0.000022, 0.000006,\n",
       "       0.000052, 0.000028, 0.00504 , 0.000258, 0.000002, 0.000004,\n",
       "       0.0005  , 0.000026, 0.001172, 0.000088, 0.02578 , 0.000158,\n",
       "       0.000048, 0.000032, 0.004928, 0.000298, 0.009466, 0.000588,\n",
       "       0.13083 , 0.000576, 0.001054, 0.000122, 0.026222, 0.000142,\n",
       "       0.043746, 0.000308, 0.306066, 0.      , 0.      , 0.      ,\n",
       "       0.      , 0.      , 0.      , 0.      , 0.000266, 0.00006 ,\n",
       "       0.      , 0.      , 0.000022, 0.000002, 0.000044, 0.000018,\n",
       "       0.002404, 0.000032, 0.000002, 0.000002, 0.000282, 0.000054,\n",
       "       0.00066 , 0.000088, 0.014328, 0.00014 , 0.000038, 0.000016,\n",
       "       0.002432, 0.000044, 0.004282, 0.000064, 0.04158 , 0.      ,\n",
       "       0.      , 0.      , 0.00006 , 0.000008, 0.000114, 0.000026,\n",
       "       0.00462 , 0.000044, 0.000004, 0.      , 0.000668, 0.000006,\n",
       "       0.001228, 0.000022, 0.016426, 0.      , 0.000136, 0.000028,\n",
       "       0.004568, 0.000052, 0.008268, 0.000118, 0.069134, 0.      ,\n",
       "       0.001364, 0.000024, 0.016616, 0.      , 0.026574, 0.      ,\n",
       "       0.12051 , 0.      ])"
      ]
     },
     "execution_count": 99,
     "metadata": {},
     "output_type": "execute_result"
    }
   ],
   "source": [
    "simulate_more"
   ]
  },
  {
   "cell_type": "code",
   "execution_count": 100,
   "id": "1941216f",
   "metadata": {
    "scrolled": true
   },
   "outputs": [
    {
     "data": {
      "text/plain": [
       "1.0"
      ]
     },
     "execution_count": 100,
     "metadata": {},
     "output_type": "execute_result"
    }
   ],
   "source": [
    "np.sum(simulate_more)"
   ]
  },
  {
   "cell_type": "markdown",
   "id": "20a0f9f6",
   "metadata": {},
   "source": [
    "# Results\n",
    "We can calculate our final average time for a single elevator trip by multiplying our time per elevator array by our probability table array and summing it, and from there we can calculate the total time for the morning elevator operation."
   ]
  },
  {
   "cell_type": "code",
   "execution_count": 101,
   "id": "31975571",
   "metadata": {},
   "outputs": [
    {
     "data": {
      "text/plain": [
       "113.940224"
      ]
     },
     "execution_count": 101,
     "metadata": {},
     "output_type": "execute_result"
    }
   ],
   "source": [
    "meanElevatorTime = np.sum(np.multiply(simulate_more, arr))\n",
    "meanElevatorTime"
   ]
  },
  {
   "cell_type": "code",
   "execution_count": 102,
   "id": "1e1e0dfa",
   "metadata": {},
   "outputs": [
    {
     "data": {
      "text/plain": [
       "1424.2528"
      ]
     },
     "execution_count": 102,
     "metadata": {},
     "output_type": "execute_result"
    }
   ],
   "source": [
    "totTime = 50 * meanElevatorTime / 4\n",
    "totTime"
   ]
  },
  {
   "cell_type": "code",
   "execution_count": 103,
   "id": "2a887da5",
   "metadata": {},
   "outputs": [
    {
     "data": {
      "text/plain": [
       "23.737546666666667"
      ]
     },
     "execution_count": 103,
     "metadata": {},
     "output_type": "execute_result"
    }
   ],
   "source": [
    "totMinutes = totTime / 60\n",
    "totMinutes"
   ]
  },
  {
   "cell_type": "markdown",
   "id": "c9d45737",
   "metadata": {},
   "source": [
    "# Semi-optimal Solution\n",
    "One potential solution that doesn't require employees to arrive earlier is to have the first and second floor employees go first in groups of only those from their floors. "
   ]
  },
  {
   "cell_type": "code",
   "execution_count": 104,
   "id": "2ccd1c72",
   "metadata": {},
   "outputs": [],
   "source": [
    "no_firsecond = [3]*60 + [4]*120 + [5]*80 + [6]*20"
   ]
  },
  {
   "cell_type": "code",
   "execution_count": 118,
   "id": "38a22b8d",
   "metadata": {},
   "outputs": [],
   "source": [
    "firsecond_prob = np.zeros(128)\n",
    "for i in range(10000):\n",
    "    firsecond_prob += np.array(countElevators(no_firsecond))"
   ]
  },
  {
   "cell_type": "code",
   "execution_count": 119,
   "id": "18de9dd3",
   "metadata": {},
   "outputs": [],
   "source": [
    "firsecond_prob /= 280000"
   ]
  },
  {
   "cell_type": "code",
   "execution_count": 120,
   "id": "a35586a1",
   "metadata": {},
   "outputs": [
    {
     "data": {
      "text/plain": [
       "0.9999999999999999"
      ]
     },
     "execution_count": 120,
     "metadata": {},
     "output_type": "execute_result"
    }
   ],
   "source": [
    "np.sum(firsecond_prob)"
   ]
  },
  {
   "cell_type": "code",
   "execution_count": 121,
   "id": "3ab40390",
   "metadata": {},
   "outputs": [
    {
     "data": {
      "text/plain": [
       "104.93335714285713"
      ]
     },
     "execution_count": 121,
     "metadata": {},
     "output_type": "execute_result"
    }
   ],
   "source": [
    "newElevatorTime = np.sum(np.multiply(firsecond_prob, arr))\n",
    "newElevatorTime"
   ]
  },
  {
   "cell_type": "code",
   "execution_count": 122,
   "id": "e57e5836",
   "metadata": {},
   "outputs": [
    {
     "data": {
      "text/plain": [
       "266.5"
      ]
     },
     "execution_count": 122,
     "metadata": {},
     "output_type": "execute_result"
    }
   ],
   "source": [
    "firSecondTime = (10 * calcFromBinary(\"0000011\") + 12 * calcFromBinary(\"0000101\")) / 4\n",
    "firSecondTime"
   ]
  },
  {
   "cell_type": "code",
   "execution_count": 123,
   "id": "3bbbf27a",
   "metadata": {},
   "outputs": [
    {
     "data": {
      "text/plain": [
       "1001.0334999999999"
      ]
     },
     "execution_count": 123,
     "metadata": {},
     "output_type": "execute_result"
    }
   ],
   "source": [
    "newTotTime = (28 * newElevatorTime) / 4 + firSecondTime\n",
    "newTotTime"
   ]
  },
  {
   "cell_type": "code",
   "execution_count": 124,
   "id": "aa916e65",
   "metadata": {},
   "outputs": [
    {
     "data": {
      "text/plain": [
       "16.683891666666664"
      ]
     },
     "execution_count": 124,
     "metadata": {},
     "output_type": "execute_result"
    }
   ],
   "source": [
    "newTotMinutes = newTotTime / 60\n",
    "newTotMinutes"
   ]
  },
  {
   "cell_type": "code",
   "execution_count": 125,
   "id": "6ee0a27c",
   "metadata": {},
   "outputs": [
    {
     "data": {
      "text/plain": [
       "4.441666666666666"
      ]
     },
     "execution_count": 125,
     "metadata": {},
     "output_type": "execute_result"
    }
   ],
   "source": [
    "firSecondMinutes = firSecondTime / 60\n",
    "firSecondMinutes"
   ]
  },
  {
   "cell_type": "markdown",
   "id": "99869787",
   "metadata": {},
   "source": [
    "As we can see, this solution saves more than 5 minutes without much trouble, since we could just say that anyone higher than the 1st and 2nd floors can just arrive later. "
   ]
  },
  {
   "cell_type": "code",
   "execution_count": null,
   "id": "02f809dd",
   "metadata": {},
   "outputs": [],
   "source": []
  }
 ],
 "metadata": {
  "kernelspec": {
   "display_name": "Python 3 (ipykernel)",
   "language": "python",
   "name": "python3"
  },
  "language_info": {
   "codemirror_mode": {
    "name": "ipython",
    "version": 3
   },
   "file_extension": ".py",
   "mimetype": "text/x-python",
   "name": "python",
   "nbconvert_exporter": "python",
   "pygments_lexer": "ipython3",
   "version": "3.9.6"
  }
 },
 "nbformat": 4,
 "nbformat_minor": 5
}
