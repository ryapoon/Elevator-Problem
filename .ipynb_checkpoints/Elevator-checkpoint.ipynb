{
 "cells": [
  {
   "cell_type": "code",
   "execution_count": 126,
   "id": "195f32ee",
   "metadata": {},
   "outputs": [],
   "source": [
    "import numpy as np"
   ]
  },
  {
   "cell_type": "code",
   "execution_count": 127,
   "id": "de03e466",
   "metadata": {},
   "outputs": [
    {
     "data": {
      "text/plain": [
       "'0b111110'"
      ]
     },
     "execution_count": 127,
     "metadata": {},
     "output_type": "execute_result"
    }
   ],
   "source": [
    "def binN(n):\n",
    "    return bin(n)[2:]\n",
    "bin(62)"
   ]
  },
  {
   "cell_type": "markdown",
   "id": "982a695f",
   "metadata": {},
   "source": [
    "# Per-Elevator Calculation Function"
   ]
  },
  {
   "cell_type": "markdown",
   "id": "92a69fa1",
   "metadata": {},
   "source": [
    "This function takes in an input of an integer between 0 and 127 inclusive and converts it to binary, where the first 6 digits represent whether or not the elevator stops at that floor, going from 6th floor to 1st floor. The last digit represents whether or not any floor is a stop for more than 6 passengers, meaning that some of the integers in our range may not actually be possible, since it is assumed the elevator will only make stops at floors with at least one passenger, and elevators with only one stop *must* have a floor with 6 or more passengers. It outputs an array with the corresponding time each elevator trip would take given it's category between 0 and 127. "
   ]
  },
  {
   "cell_type": "code",
   "execution_count": 128,
   "id": "3caa307c",
   "metadata": {},
   "outputs": [],
   "source": [
    "import const\n",
    "def calcTime(n):\n",
    "    e = binN(n)\n",
    "    top = len(e)-1\n",
    "    for i in range(7-len(e)):\n",
    "        e = \"0\" + e;\n",
    "    count = const.FILL_TIME\n",
    "    count += 2 * const.BETWEEN_FLOORS * top\n",
    "    if n % 2 == 1:\n",
    "        count += const.REOPEN_TIME\n",
    "    for c in e:\n",
    "        if c == \"1\":\n",
    "            count += const.STOP_TIME\n",
    "    if e[6] == \"1\":\n",
    "        count -= const.STOP_TIME\n",
    "    return count\n",
    "    "
   ]
  },
  {
   "cell_type": "code",
   "execution_count": 129,
   "id": "9e549f6b",
   "metadata": {},
   "outputs": [
    {
     "data": {
      "text/plain": [
       "array([ 15,  23,  35,  43,  45,  53,  55,  63,  55,  63,  65,  73,  65,\n",
       "        73,  75,  83,  65,  73,  75,  83,  75,  83,  85,  93,  75,  83,\n",
       "        85,  93,  85,  93,  95, 103,  75,  83,  85,  93,  85,  93,  95,\n",
       "       103,  85,  93,  95, 103,  95, 103, 105, 113,  85,  93,  95, 103,\n",
       "        95, 103, 105, 113,  95, 103, 105, 113, 105, 113, 115, 123,  85,\n",
       "        93,  95, 103,  95, 103, 105, 113,  95, 103, 105, 113, 105, 113,\n",
       "       115, 123,  95, 103, 105, 113, 105, 113, 115, 123, 105, 113, 115,\n",
       "       123, 115, 123, 125, 133,  95, 103, 105, 113, 105, 113, 115, 123,\n",
       "       105, 113, 115, 123, 115, 123, 125, 133, 105, 113, 115, 123, 115,\n",
       "       123, 125, 133, 115, 123, 125, 133, 125, 133, 135, 143])"
      ]
     },
     "execution_count": 129,
     "metadata": {},
     "output_type": "execute_result"
    }
   ],
   "source": [
    "arr = []\n",
    "for i in range(0, 128):\n",
    "    arr.append(calcTime(i))\n",
    "np.array(arr)"
   ]
  },
  {
   "cell_type": "markdown",
   "id": "809810ad",
   "metadata": {},
   "source": [
    "# Example\n",
    "In the example below, we have an elevator that stops at floors 1, 4, and 5, as well as one of those stops having 7 or more passengers getting off there. We express that elevator as the binary string \"0110011\" and our resulting time is 103 seconds for the entire trip. "
   ]
  },
  {
   "cell_type": "code",
   "execution_count": 130,
   "id": "e0eec025",
   "metadata": {},
   "outputs": [],
   "source": [
    "def calcFromBinary(s):\n",
    "    return calcTime(int(s, 2))\n"
   ]
  },
  {
   "cell_type": "code",
   "execution_count": 131,
   "id": "59a17270",
   "metadata": {},
   "outputs": [
    {
     "data": {
      "text/plain": [
       "103"
      ]
     },
     "execution_count": 131,
     "metadata": {},
     "output_type": "execute_result"
    }
   ],
   "source": [
    "calcFromBinary(\"0110011\")"
   ]
  },
  {
   "cell_type": "markdown",
   "id": "594110bf",
   "metadata": {},
   "source": [
    "# Probability Table\n",
    "These functions create a probability table of how likely an elevator will fill up to as a category of elevator as described above by simulating several full days of elevator usage. Crucially, during each day, the number of people joining an elevator is maintained throughout, so hopefully we collect samples that reflect the average elevator including elevators that go "
   ]
  },
  {
   "cell_type": "code",
   "execution_count": 132,
   "id": "fc04f59c",
   "metadata": {},
   "outputs": [],
   "source": [
    "import random"
   ]
  },
  {
   "cell_type": "code",
   "execution_count": 133,
   "id": "74739379",
   "metadata": {},
   "outputs": [],
   "source": [
    "all_people = [1]*100 + [2]*120 + [3]*60 + [4]*120 + [5]*80 + [6]*20\n"
   ]
  },
  {
   "cell_type": "code",
   "execution_count": 134,
   "id": "da97d13a",
   "metadata": {},
   "outputs": [],
   "source": [
    "def fill_elevator(people):\n",
    "    elevator = []\n",
    "    for i in range(10):\n",
    "        a = random.randrange(len(people))\n",
    "        elevator.append(people[a])\n",
    "        del(people[a])\n",
    "    return elevator"
   ]
  },
  {
   "cell_type": "code",
   "execution_count": 135,
   "id": "113b4347",
   "metadata": {},
   "outputs": [],
   "source": [
    "def countElevators(all_people):\n",
    "    people = all_people.copy()\n",
    "    elevator_types = [0]*128\n",
    "    for i in range(int(len(all_people)/10)):\n",
    "        floors = [0]*6\n",
    "        elevator = fill_elevator(people)\n",
    "        for floor in elevator:\n",
    "            floors[floor-1] += 1\n",
    "        string = \"\"\n",
    "        for floor in floors:\n",
    "            if floor > 0:\n",
    "                string = \"1\" + string\n",
    "            else:\n",
    "                string = \"0\" + string\n",
    "        reopen = False\n",
    "        for floor in floors:\n",
    "            if floor > 6:\n",
    "                reopen = True\n",
    "                break\n",
    "        if reopen:\n",
    "            string = string + \"1\"\n",
    "        else:\n",
    "            string = string + \"0\"\n",
    "        elevator_types[int(string,2)] += 1\n",
    "    return elevator_types"
   ]
  },
  {
   "cell_type": "code",
   "execution_count": 136,
   "id": "357aaa6a",
   "metadata": {},
   "outputs": [],
   "source": [
    "simulate_more = np.zeros(128)\n",
    "np.set_printoptions(suppress=True)\n",
    "for i in range(10000):\n",
    "    simulate_more += np.array(countElevators(all_people))"
   ]
  },
  {
   "cell_type": "markdown",
   "id": "775db40b",
   "metadata": {},
   "source": [
    "This is the table of how many simulated elevators were a part of a given category"
   ]
  },
  {
   "cell_type": "code",
   "execution_count": 137,
   "id": "ef943f8a",
   "metadata": {},
   "outputs": [
    {
     "data": {
      "text/plain": [
       "array([     0.,      0.,      0.,      0.,      0.,      1.,     70.,\n",
       "           60.,      0.,      0.,      1.,      1.,      8.,      9.,\n",
       "         1149.,     88.,      0.,      0.,     73.,     43.,    208.,\n",
       "          100.,   9118.,    386.,      4.,     11.,   1166.,     99.,\n",
       "         2371.,    169.,  37009.,    216.,      0.,      0.,     11.,\n",
       "            3.,     31.,     17.,   2547.,    159.,      0.,      0.,\n",
       "          288.,     20.,    607.,     63.,  12940.,     76.,     22.,\n",
       "           17.,   2582.,    140.,   4776.,    280.,  65030.,    280.,\n",
       "          529.,     45.,  12840.,     81.,  21778.,    153., 153457.,\n",
       "            0.,      0.,      0.,      0.,      1.,      0.,      1.,\n",
       "          135.,     21.,      0.,      0.,      9.,      0.,     21.,\n",
       "            7.,   1147.,     21.,      1.,      0.,    135.,     25.,\n",
       "          326.,     45.,   7129.,     70.,     23.,      8.,   1214.,\n",
       "           21.,   2126.,     37.,  20950.,      0.,      0.,      0.,\n",
       "           20.,      4.,     52.,     18.,   2402.,     22.,      1.,\n",
       "            0.,    304.,      7.,    619.,     18.,   8349.,      0.,\n",
       "           58.,     12.,   2371.,     25.,   3973.,     42.,  34636.,\n",
       "            0.,    620.,     16.,   8428.,      0.,  13079.,      0.,\n",
       "        60319.,      0.])"
      ]
     },
     "execution_count": 137,
     "metadata": {},
     "output_type": "execute_result"
    }
   ],
   "source": [
    "simulate_more"
   ]
  },
  {
   "cell_type": "code",
   "execution_count": 138,
   "id": "c5175bb1",
   "metadata": {},
   "outputs": [],
   "source": [
    "simulate_more /= 500000"
   ]
  },
  {
   "cell_type": "markdown",
   "id": "58dea68b",
   "metadata": {},
   "source": [
    "And this is our probability table for the elevator categories"
   ]
  },
  {
   "cell_type": "code",
   "execution_count": 139,
   "id": "2c4a38ca",
   "metadata": {},
   "outputs": [
    {
     "data": {
      "text/plain": [
       "array([0.      , 0.      , 0.      , 0.      , 0.      , 0.000002,\n",
       "       0.00014 , 0.00012 , 0.      , 0.      , 0.000002, 0.000002,\n",
       "       0.000016, 0.000018, 0.002298, 0.000176, 0.      , 0.      ,\n",
       "       0.000146, 0.000086, 0.000416, 0.0002  , 0.018236, 0.000772,\n",
       "       0.000008, 0.000022, 0.002332, 0.000198, 0.004742, 0.000338,\n",
       "       0.074018, 0.000432, 0.      , 0.      , 0.000022, 0.000006,\n",
       "       0.000062, 0.000034, 0.005094, 0.000318, 0.      , 0.      ,\n",
       "       0.000576, 0.00004 , 0.001214, 0.000126, 0.02588 , 0.000152,\n",
       "       0.000044, 0.000034, 0.005164, 0.00028 , 0.009552, 0.00056 ,\n",
       "       0.13006 , 0.00056 , 0.001058, 0.00009 , 0.02568 , 0.000162,\n",
       "       0.043556, 0.000306, 0.306914, 0.      , 0.      , 0.      ,\n",
       "       0.      , 0.000002, 0.      , 0.000002, 0.00027 , 0.000042,\n",
       "       0.      , 0.      , 0.000018, 0.      , 0.000042, 0.000014,\n",
       "       0.002294, 0.000042, 0.000002, 0.      , 0.00027 , 0.00005 ,\n",
       "       0.000652, 0.00009 , 0.014258, 0.00014 , 0.000046, 0.000016,\n",
       "       0.002428, 0.000042, 0.004252, 0.000074, 0.0419  , 0.      ,\n",
       "       0.      , 0.      , 0.00004 , 0.000008, 0.000104, 0.000036,\n",
       "       0.004804, 0.000044, 0.000002, 0.      , 0.000608, 0.000014,\n",
       "       0.001238, 0.000036, 0.016698, 0.      , 0.000116, 0.000024,\n",
       "       0.004742, 0.00005 , 0.007946, 0.000084, 0.069272, 0.      ,\n",
       "       0.00124 , 0.000032, 0.016856, 0.      , 0.026158, 0.      ,\n",
       "       0.120638, 0.      ])"
      ]
     },
     "execution_count": 139,
     "metadata": {},
     "output_type": "execute_result"
    }
   ],
   "source": [
    "simulate_more"
   ]
  },
  {
   "cell_type": "code",
   "execution_count": 140,
   "id": "1941216f",
   "metadata": {
    "scrolled": true
   },
   "outputs": [
    {
     "data": {
      "text/plain": [
       "1.0"
      ]
     },
     "execution_count": 140,
     "metadata": {},
     "output_type": "execute_result"
    }
   ],
   "source": [
    "np.sum(simulate_more)"
   ]
  },
  {
   "cell_type": "markdown",
   "id": "20a0f9f6",
   "metadata": {},
   "source": [
    "# Results\n",
    "We can calculate our final average time for a single elevator trip by multiplying our time per elevator array by our probability table array and summing it, and from there we can calculate the total time for the morning elevator operation."
   ]
  },
  {
   "cell_type": "code",
   "execution_count": 141,
   "id": "31975571",
   "metadata": {},
   "outputs": [
    {
     "data": {
      "text/plain": [
       "113.95976800000001"
      ]
     },
     "execution_count": 141,
     "metadata": {},
     "output_type": "execute_result"
    }
   ],
   "source": [
    "meanElevatorTime = np.sum(np.multiply(simulate_more, arr))\n",
    "meanElevatorTime"
   ]
  },
  {
   "cell_type": "code",
   "execution_count": 142,
   "id": "1e1e0dfa",
   "metadata": {},
   "outputs": [
    {
     "data": {
      "text/plain": [
       "1424.4971"
      ]
     },
     "execution_count": 142,
     "metadata": {},
     "output_type": "execute_result"
    }
   ],
   "source": [
    "totTime = 50 * meanElevatorTime / 4\n",
    "totTime"
   ]
  },
  {
   "cell_type": "code",
   "execution_count": 143,
   "id": "2a887da5",
   "metadata": {},
   "outputs": [
    {
     "data": {
      "text/plain": [
       "23.741618333333335"
      ]
     },
     "execution_count": 143,
     "metadata": {},
     "output_type": "execute_result"
    }
   ],
   "source": [
    "totMinutes = totTime / 60\n",
    "totMinutes"
   ]
  },
  {
   "cell_type": "markdown",
   "id": "49e67555",
   "metadata": {},
   "source": [
    "# Semi-optimal Solution\n",
    "One potential solution that doesn't require employees to arrive earlier is to have the first and second floor employees go first in groups of only those from their floors. "
   ]
  },
  {
   "cell_type": "code",
   "execution_count": 144,
   "id": "2cc7dc01",
   "metadata": {},
   "outputs": [],
   "source": [
    "no_firsecond = [3]*60 + [4]*120 + [5]*80 + [6]*20"
   ]
  },
  {
   "cell_type": "code",
   "execution_count": 145,
   "id": "f4574d00",
   "metadata": {},
   "outputs": [
    {
     "data": {
      "text/plain": [
       "array([     0.,      0.,      0.,      0.,      0.,      0.,      0.,\n",
       "            0.,      0.,      0.,      0.,      0.,      0.,      0.,\n",
       "            0.,      0.,      0.,     49.,      0.,      0.,      0.,\n",
       "            0.,      0.,      0.,   1230.,   1700.,      0.,      0.,\n",
       "            0.,      0.,      0.,      0.,      0.,      1.,      0.,\n",
       "            0.,      0.,      0.,      0.,      0.,    186.,     71.,\n",
       "            0.,      0.,      0.,      0.,      0.,      0.,   5194.,\n",
       "         3780.,      0.,      0.,      0.,      0.,      0.,      0.,\n",
       "       108723.,  10611.,      0.,      0.,      0.,      0.,      0.,\n",
       "            0.,      0.,      0.,      0.,      0.,      0.,      0.,\n",
       "            0.,      0.,      0.,      0.,      0.,      0.,      0.,\n",
       "            0.,      0.,      0.,     13.,    168.,      0.,      0.,\n",
       "            0.,      0.,      0.,      0.,   4275.,   1558.,      0.,\n",
       "            0.,      0.,      0.,      0.,      0.,      0.,      9.,\n",
       "            0.,      0.,      0.,      0.,      0.,      0.,    584.,\n",
       "           85.,      0.,      0.,      0.,      0.,      0.,      0.,\n",
       "        11997.,   2642.,      0.,      0.,      0.,      0.,      0.,\n",
       "            0., 124644.,   2480.,      0.,      0.,      0.,      0.,\n",
       "            0.,      0.])"
      ]
     },
     "execution_count": 145,
     "metadata": {},
     "output_type": "execute_result"
    }
   ],
   "source": [
    "firsecond_prob = np.zeros(128)\n",
    "for i in range(10000):\n",
    "    firsecond_prob += np.array(countElevators(no_firsecond))\n",
    "firsecond_prob"
   ]
  },
  {
   "cell_type": "code",
   "execution_count": 146,
   "id": "981fddab",
   "metadata": {},
   "outputs": [
    {
     "data": {
      "text/plain": [
       "array([0.        , 0.        , 0.        , 0.        , 0.        ,\n",
       "       0.        , 0.        , 0.        , 0.        , 0.        ,\n",
       "       0.        , 0.        , 0.        , 0.        , 0.        ,\n",
       "       0.        , 0.        , 0.000175  , 0.        , 0.        ,\n",
       "       0.        , 0.        , 0.        , 0.        , 0.00439286,\n",
       "       0.00607143, 0.        , 0.        , 0.        , 0.        ,\n",
       "       0.        , 0.        , 0.        , 0.00000357, 0.        ,\n",
       "       0.        , 0.        , 0.        , 0.        , 0.        ,\n",
       "       0.00066429, 0.00025357, 0.        , 0.        , 0.        ,\n",
       "       0.        , 0.        , 0.        , 0.01855   , 0.0135    ,\n",
       "       0.        , 0.        , 0.        , 0.        , 0.        ,\n",
       "       0.        , 0.38829643, 0.03789643, 0.        , 0.        ,\n",
       "       0.        , 0.        , 0.        , 0.        , 0.        ,\n",
       "       0.        , 0.        , 0.        , 0.        , 0.        ,\n",
       "       0.        , 0.        , 0.        , 0.        , 0.        ,\n",
       "       0.        , 0.        , 0.        , 0.        , 0.        ,\n",
       "       0.00004643, 0.0006    , 0.        , 0.        , 0.        ,\n",
       "       0.        , 0.        , 0.        , 0.01526786, 0.00556429,\n",
       "       0.        , 0.        , 0.        , 0.        , 0.        ,\n",
       "       0.        , 0.        , 0.00003214, 0.        , 0.        ,\n",
       "       0.        , 0.        , 0.        , 0.        , 0.00208571,\n",
       "       0.00030357, 0.        , 0.        , 0.        , 0.        ,\n",
       "       0.        , 0.        , 0.04284643, 0.00943571, 0.        ,\n",
       "       0.        , 0.        , 0.        , 0.        , 0.        ,\n",
       "       0.44515714, 0.00885714, 0.        , 0.        , 0.        ,\n",
       "       0.        , 0.        , 0.        ])"
      ]
     },
     "execution_count": 146,
     "metadata": {},
     "output_type": "execute_result"
    }
   ],
   "source": [
    "firsecond_prob /= 280000\n",
    "firsecond_prob"
   ]
  },
  {
   "cell_type": "code",
   "execution_count": 147,
   "id": "a52a74e9",
   "metadata": {},
   "outputs": [
    {
     "data": {
      "text/plain": [
       "1.0"
      ]
     },
     "execution_count": 147,
     "metadata": {},
     "output_type": "execute_result"
    }
   ],
   "source": [
    "np.sum(firsecond_prob)"
   ]
  },
  {
   "cell_type": "code",
   "execution_count": 148,
   "id": "0f3e35db",
   "metadata": {},
   "outputs": [
    {
     "data": {
      "text/plain": [
       "104.95257857142857"
      ]
     },
     "execution_count": 148,
     "metadata": {},
     "output_type": "execute_result"
    }
   ],
   "source": [
    "newElevatorTime = np.sum(np.multiply(firsecond_prob, arr))\n",
    "newElevatorTime"
   ]
  },
  {
   "cell_type": "code",
   "execution_count": 149,
   "id": "bfe458a8",
   "metadata": {},
   "outputs": [
    {
     "data": {
      "text/plain": [
       "266.5"
      ]
     },
     "execution_count": 149,
     "metadata": {},
     "output_type": "execute_result"
    }
   ],
   "source": [
    "firSecondTime = (10 * calcFromBinary(\"0000011\") + 12 * calcFromBinary(\"0000101\")) / 4\n",
    "firSecondTime"
   ]
  },
  {
   "cell_type": "code",
   "execution_count": 150,
   "id": "80d19a79",
   "metadata": {},
   "outputs": [
    {
     "data": {
      "text/plain": [
       "1001.16805"
      ]
     },
     "execution_count": 150,
     "metadata": {},
     "output_type": "execute_result"
    }
   ],
   "source": [
    "newTotTime = (28 * newElevatorTime) / 4 + firSecondTime\n",
    "newTotTime"
   ]
  },
  {
   "cell_type": "code",
   "execution_count": 151,
   "id": "7153eabd",
   "metadata": {},
   "outputs": [
    {
     "data": {
      "text/plain": [
       "16.686134166666665"
      ]
     },
     "execution_count": 151,
     "metadata": {},
     "output_type": "execute_result"
    }
   ],
   "source": [
    "newTotMinutes = newTotTime / 60\n",
    "newTotMinutes"
   ]
  },
  {
   "cell_type": "code",
   "execution_count": 152,
   "id": "b2f8b943",
   "metadata": {},
   "outputs": [
    {
     "data": {
      "text/plain": [
       "4.441666666666666"
      ]
     },
     "execution_count": 152,
     "metadata": {},
     "output_type": "execute_result"
    }
   ],
   "source": [
    "firSecondMinutes = firSecondTime / 60\n",
    "firSecondMinutes"
   ]
  },
  {
   "cell_type": "markdown",
   "id": "cb936356",
   "metadata": {},
   "source": [
    "As we can see, this solution saves more than 5 minutes without much trouble, since we could just say that anyone higher than the 1st and 2nd floors can just arrive later. "
   ]
  },
  {
   "cell_type": "code",
   "execution_count": null,
   "id": "df155c3b",
   "metadata": {},
   "outputs": [],
   "source": []
  }
 ],
 "metadata": {
  "kernelspec": {
   "display_name": "Python 3 (ipykernel)",
   "language": "python",
   "name": "python3"
  },
  "language_info": {
   "codemirror_mode": {
    "name": "ipython",
    "version": 3
   },
   "file_extension": ".py",
   "mimetype": "text/x-python",
   "name": "python",
   "nbconvert_exporter": "python",
   "pygments_lexer": "ipython3",
   "version": "3.9.6"
  }
 },
 "nbformat": 4,
 "nbformat_minor": 5
}
