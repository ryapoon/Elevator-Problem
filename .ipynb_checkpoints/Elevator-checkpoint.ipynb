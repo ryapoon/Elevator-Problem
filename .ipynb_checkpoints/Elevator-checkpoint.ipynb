{
 "cells": [
  {
   "cell_type": "code",
   "execution_count": 19,
   "id": "195f32ee",
   "metadata": {},
   "outputs": [],
   "source": [
    "import numpy as np"
   ]
  },
  {
   "cell_type": "code",
   "execution_count": 20,
   "id": "de03e466",
   "metadata": {},
   "outputs": [],
   "source": [
    "def binN(n):\n",
    "    return bin(n)[2:]"
   ]
  },
  {
   "cell_type": "markdown",
   "id": "982a695f",
   "metadata": {},
   "source": [
    "# Per-Elevator Calculation Function"
   ]
  },
  {
   "cell_type": "markdown",
   "id": "92a69fa1",
   "metadata": {},
   "source": [
    "This function takes in an input of an integer between 0 and 127 inclusive and converts it to binary, where the first 6 digits represent whether or not the elevator stops at that floor, going from 6th floor to 1st floor. The last digit represents whether or not any floor is a stop for more than 6 passengers, meaning that some of the integers in our range may not actually be possible, since it is assumed the elevator will only make stops at floors with at least one passenger, and elevators with only one stop *must* have a floor with 6 or more passengers. "
   ]
  },
  {
   "cell_type": "code",
   "execution_count": 21,
   "id": "3caa307c",
   "metadata": {},
   "outputs": [],
   "source": [
    "import const\n",
    "def calcTime(n):\n",
    "    e = binN(n)\n",
    "    top = len(e)-1\n",
    "    for i in range(7-len(e)):\n",
    "        e = \"0\" + e;\n",
    "    count = const.FILL_TIME\n",
    "    count += 2 * const.BETWEEN_FLOORS * top\n",
    "    if n % 2 == 1:\n",
    "        count += const.REOPEN_TIME\n",
    "    for c in e:\n",
    "        if c == \"1\":\n",
    "            count += const.STOP_TIME\n",
    "    if e[6] == \"1\":\n",
    "        count -= const.STOP_TIME\n",
    "    return count\n",
    "    "
   ]
  },
  {
   "cell_type": "code",
   "execution_count": 22,
   "id": "9e549f6b",
   "metadata": {},
   "outputs": [
    {
     "name": "stdout",
     "output_type": "stream",
     "text": [
      "[ 15  23  35  43  45  53  55  63  55  63  65  73  65  73  75  83  65  73\n",
      "  75  83  75  83  85  93  75  83  85  93  85  93  95 103  75  83  85  93\n",
      "  85  93  95 103  85  93  95 103  95 103 105 113  85  93  95 103  95 103\n",
      " 105 113  95 103 105 113 105 113 115 123  85  93  95 103  95 103 105 113\n",
      "  95 103 105 113 105 113 115 123  95 103 105 113 105 113 115 123 105 113\n",
      " 115 123 115 123 125 133  95 103 105 113 105 113 115 123 105 113 115 123\n",
      " 115 123 125 133 105 113 115 123 115 123 125 133 115 123 125 133 125 133\n",
      " 135 143]\n"
     ]
    }
   ],
   "source": [
    "arr = []\n",
    "for i in range(0, 128):\n",
    "    arr.append(calcTime(i))\n",
    "print(arr)"
   ]
  },
  {
   "cell_type": "markdown",
   "id": "809810ad",
   "metadata": {},
   "source": [
    "# Example\n",
    "In the example below, we have an elevator that stops at floors 1, 4, and 5, as well as one of those stops having 7 or more passengers getting off there. We express that elevator as the binary string \"0110011\" and our resulting time is 103 seconds for the entire trip. "
   ]
  },
  {
   "cell_type": "code",
   "execution_count": 23,
   "id": "e0eec025",
   "metadata": {},
   "outputs": [],
   "source": [
    "def calcFromBinary(s):\n",
    "    return calcTime(int(s, 2))\n"
   ]
  },
  {
   "cell_type": "code",
   "execution_count": 43,
   "id": "59a17270",
   "metadata": {},
   "outputs": [
    {
     "data": {
      "text/plain": [
       "103"
      ]
     },
     "execution_count": 43,
     "metadata": {},
     "output_type": "execute_result"
    }
   ],
   "source": [
    "calcFromBinary(\"0110011\")"
   ]
  },
  {
   "cell_type": "markdown",
   "id": "594110bf",
   "metadata": {},
   "source": [
    "# Probability Table\n",
    "These functions create a probability table of how likely an elevator will fill up to as a category of elevator as described above by simulating several full days of elevator usage. Crucially, during each day, the number of people joining an elevator is maintained throughout, so hopefully we collect samples that reflect the average elevator including elevators that go "
   ]
  },
  {
   "cell_type": "code",
   "execution_count": 25,
   "id": "fc04f59c",
   "metadata": {},
   "outputs": [],
   "source": [
    "import random"
   ]
  },
  {
   "cell_type": "code",
   "execution_count": 26,
   "id": "25452099",
   "metadata": {},
   "outputs": [],
   "source": [
    "number_of_people = [0,0,0,0,0,10]"
   ]
  },
  {
   "cell_type": "code",
   "execution_count": 27,
   "id": "bc442d9c",
   "metadata": {},
   "outputs": [],
   "source": [
    "def time(number_of_people):\n",
    "    time = 15\n",
    "    for i in range(6):\n",
    "        if number_of_people[5-i] > 0:\n",
    "            time += 10*(6-i)\n",
    "            break\n",
    "    for n in number_of_people:\n",
    "        if n > 6:\n",
    "            time += 18\n",
    "        elif n > 0:\n",
    "            time += 10\n",
    "    return time\n",
    "        "
   ]
  },
  {
   "cell_type": "code",
   "execution_count": 29,
   "id": "74739379",
   "metadata": {},
   "outputs": [],
   "source": [
    "all_people = [1]*100 + [2]*120 + [3]*60 + [4]*120 + [5]*80 + [6]*20"
   ]
  },
  {
   "cell_type": "code",
   "execution_count": 30,
   "id": "da97d13a",
   "metadata": {},
   "outputs": [],
   "source": [
    "def fill_elevator(people):\n",
    "    elevator = []\n",
    "    for i in range(10):\n",
    "        a = random.randrange(len(people))\n",
    "        elevator.append(people[a])\n",
    "        del(people[a])\n",
    "    return elevator"
   ]
  },
  {
   "cell_type": "code",
   "execution_count": 56,
   "id": "113b4347",
   "metadata": {},
   "outputs": [],
   "source": [
    "def total_time(all_people):\n",
    "    people = all_people.copy()\n",
    "    elevator_types = [0]*128\n",
    "    for i in range(50):\n",
    "        floors = [0]*6\n",
    "        elevator = fill_elevator(people)\n",
    "        for floor in elevator:\n",
    "            floors[floor-1] += 1\n",
    "        string = \"\"\n",
    "        for floor in floors:\n",
    "            if floor > 0:\n",
    "                string = \"1\" + string\n",
    "            else:\n",
    "                string = \"0\" + string\n",
    "        reopen = False\n",
    "        for floor in floors:\n",
    "            if floor > 6:\n",
    "                reopen = True\n",
    "                break\n",
    "        if reopen:\n",
    "            string = string + \"1\"\n",
    "        else:\n",
    "            string = string + \"0\"\n",
    "        elevator_types[int(string,2)] += 1\n",
    "    return elevator_types"
   ]
  },
  {
   "cell_type": "code",
   "execution_count": 57,
   "id": "357aaa6a",
   "metadata": {},
   "outputs": [],
   "source": [
    "simulate_more = np.zeros(128)\n",
    "for i in range(10000):\n",
    "    simulate_more += np.array(total_time(all_people))"
   ]
  },
  {
   "cell_type": "code",
   "execution_count": 58,
   "id": "ef943f8a",
   "metadata": {},
   "outputs": [
    {
     "data": {
      "text/plain": [
       "array([0.00000e+00, 0.00000e+00, 0.00000e+00, 0.00000e+00, 0.00000e+00,\n",
       "       1.00000e+00, 6.90000e+01, 4.20000e+01, 0.00000e+00, 0.00000e+00,\n",
       "       5.00000e+00, 2.00000e+00, 8.00000e+00, 8.00000e+00, 1.19800e+03,\n",
       "       1.11000e+02, 0.00000e+00, 0.00000e+00, 6.70000e+01, 4.90000e+01,\n",
       "       1.96000e+02, 8.90000e+01, 9.05100e+03, 4.17000e+02, 1.20000e+01,\n",
       "       5.00000e+00, 1.19800e+03, 8.30000e+01, 2.33200e+03, 1.55000e+02,\n",
       "       3.71280e+04, 1.72000e+02, 0.00000e+00, 0.00000e+00, 5.00000e+00,\n",
       "       7.00000e+00, 3.50000e+01, 2.20000e+01, 2.51200e+03, 1.41000e+02,\n",
       "       2.00000e+00, 0.00000e+00, 2.57000e+02, 1.40000e+01, 5.87000e+02,\n",
       "       5.60000e+01, 1.30590e+04, 9.30000e+01, 2.70000e+01, 1.40000e+01,\n",
       "       2.55500e+03, 1.41000e+02, 4.91900e+03, 2.87000e+02, 6.47620e+04,\n",
       "       2.49000e+02, 5.14000e+02, 4.70000e+01, 1.29600e+04, 8.50000e+01,\n",
       "       2.17320e+04, 1.61000e+02, 1.53371e+05, 0.00000e+00, 0.00000e+00,\n",
       "       0.00000e+00, 0.00000e+00, 0.00000e+00, 0.00000e+00, 0.00000e+00,\n",
       "       1.41000e+02, 2.40000e+01, 0.00000e+00, 0.00000e+00, 6.00000e+00,\n",
       "       1.00000e+00, 1.90000e+01, 8.00000e+00, 1.16900e+03, 2.10000e+01,\n",
       "       0.00000e+00, 2.00000e+00, 1.56000e+02, 3.20000e+01, 3.07000e+02,\n",
       "       3.80000e+01, 7.25000e+03, 7.30000e+01, 2.40000e+01, 1.30000e+01,\n",
       "       1.18100e+03, 1.70000e+01, 2.26400e+03, 3.20000e+01, 2.06550e+04,\n",
       "       0.00000e+00, 0.00000e+00, 0.00000e+00, 3.10000e+01, 8.00000e+00,\n",
       "       4.90000e+01, 4.00000e+00, 2.30300e+03, 3.00000e+01, 2.00000e+00,\n",
       "       0.00000e+00, 3.23000e+02, 2.00000e+00, 6.34000e+02, 1.60000e+01,\n",
       "       8.34400e+03, 0.00000e+00, 6.10000e+01, 2.50000e+01, 2.40100e+03,\n",
       "       2.00000e+01, 3.97400e+03, 4.50000e+01, 3.44050e+04, 0.00000e+00,\n",
       "       6.45000e+02, 1.20000e+01, 8.26600e+03, 0.00000e+00, 1.31330e+04,\n",
       "       0.00000e+00, 6.08220e+04, 0.00000e+00])"
      ]
     },
     "execution_count": 58,
     "metadata": {},
     "output_type": "execute_result"
    }
   ],
   "source": [
    "simulate_more"
   ]
  },
  {
   "cell_type": "code",
   "execution_count": 59,
   "id": "c5175bb1",
   "metadata": {},
   "outputs": [],
   "source": [
    "simulate_more /= 500000"
   ]
  },
  {
   "cell_type": "code",
   "execution_count": 60,
   "id": "2c4a38ca",
   "metadata": {},
   "outputs": [
    {
     "data": {
      "text/plain": [
       "array([0.00000e+00, 0.00000e+00, 0.00000e+00, 0.00000e+00, 0.00000e+00,\n",
       "       2.00000e-06, 1.38000e-04, 8.40000e-05, 0.00000e+00, 0.00000e+00,\n",
       "       1.00000e-05, 4.00000e-06, 1.60000e-05, 1.60000e-05, 2.39600e-03,\n",
       "       2.22000e-04, 0.00000e+00, 0.00000e+00, 1.34000e-04, 9.80000e-05,\n",
       "       3.92000e-04, 1.78000e-04, 1.81020e-02, 8.34000e-04, 2.40000e-05,\n",
       "       1.00000e-05, 2.39600e-03, 1.66000e-04, 4.66400e-03, 3.10000e-04,\n",
       "       7.42560e-02, 3.44000e-04, 0.00000e+00, 0.00000e+00, 1.00000e-05,\n",
       "       1.40000e-05, 7.00000e-05, 4.40000e-05, 5.02400e-03, 2.82000e-04,\n",
       "       4.00000e-06, 0.00000e+00, 5.14000e-04, 2.80000e-05, 1.17400e-03,\n",
       "       1.12000e-04, 2.61180e-02, 1.86000e-04, 5.40000e-05, 2.80000e-05,\n",
       "       5.11000e-03, 2.82000e-04, 9.83800e-03, 5.74000e-04, 1.29524e-01,\n",
       "       4.98000e-04, 1.02800e-03, 9.40000e-05, 2.59200e-02, 1.70000e-04,\n",
       "       4.34640e-02, 3.22000e-04, 3.06742e-01, 0.00000e+00, 0.00000e+00,\n",
       "       0.00000e+00, 0.00000e+00, 0.00000e+00, 0.00000e+00, 0.00000e+00,\n",
       "       2.82000e-04, 4.80000e-05, 0.00000e+00, 0.00000e+00, 1.20000e-05,\n",
       "       2.00000e-06, 3.80000e-05, 1.60000e-05, 2.33800e-03, 4.20000e-05,\n",
       "       0.00000e+00, 4.00000e-06, 3.12000e-04, 6.40000e-05, 6.14000e-04,\n",
       "       7.60000e-05, 1.45000e-02, 1.46000e-04, 4.80000e-05, 2.60000e-05,\n",
       "       2.36200e-03, 3.40000e-05, 4.52800e-03, 6.40000e-05, 4.13100e-02,\n",
       "       0.00000e+00, 0.00000e+00, 0.00000e+00, 6.20000e-05, 1.60000e-05,\n",
       "       9.80000e-05, 8.00000e-06, 4.60600e-03, 6.00000e-05, 4.00000e-06,\n",
       "       0.00000e+00, 6.46000e-04, 4.00000e-06, 1.26800e-03, 3.20000e-05,\n",
       "       1.66880e-02, 0.00000e+00, 1.22000e-04, 5.00000e-05, 4.80200e-03,\n",
       "       4.00000e-05, 7.94800e-03, 9.00000e-05, 6.88100e-02, 0.00000e+00,\n",
       "       1.29000e-03, 2.40000e-05, 1.65320e-02, 0.00000e+00, 2.62660e-02,\n",
       "       0.00000e+00, 1.21644e-01, 0.00000e+00])"
      ]
     },
     "execution_count": 60,
     "metadata": {},
     "output_type": "execute_result"
    }
   ],
   "source": [
    "simulate_more"
   ]
  },
  {
   "cell_type": "code",
   "execution_count": 61,
   "id": "1941216f",
   "metadata": {
    "scrolled": true
   },
   "outputs": [
    {
     "data": {
      "text/plain": [
       "1.0"
      ]
     },
     "execution_count": 61,
     "metadata": {},
     "output_type": "execute_result"
    }
   ],
   "source": [
    "np.sum(simulate_more)"
   ]
  },
  {
   "cell_type": "code",
   "execution_count": 62,
   "id": "31975571",
   "metadata": {},
   "outputs": [
    {
     "data": {
      "text/plain": [
       "113.965844"
      ]
     },
     "execution_count": 62,
     "metadata": {},
     "output_type": "execute_result"
    }
   ],
   "source": [
    "np.sum(np.multiply(simulate_more, arr))"
   ]
  },
  {
   "cell_type": "code",
   "execution_count": null,
   "id": "1e1e0dfa",
   "metadata": {},
   "outputs": [],
   "source": []
  }
 ],
 "metadata": {
  "kernelspec": {
   "display_name": "Python 3 (ipykernel)",
   "language": "python",
   "name": "python3"
  },
  "language_info": {
   "codemirror_mode": {
    "name": "ipython",
    "version": 3
   },
   "file_extension": ".py",
   "mimetype": "text/x-python",
   "name": "python",
   "nbconvert_exporter": "python",
   "pygments_lexer": "ipython3",
   "version": "3.9.6"
  }
 },
 "nbformat": 4,
 "nbformat_minor": 5
}
